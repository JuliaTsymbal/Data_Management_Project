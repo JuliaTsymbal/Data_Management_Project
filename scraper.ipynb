{
 "cells": [
  {
   "cell_type": "code",
   "execution_count": 1,
   "metadata": {},
   "outputs": [],
   "source": [
    "import pandas as pd\n",
    "import xlsxwriter\n",
    "from datetime import datetime\n",
    "import csv\n",
    "\n",
    "from selenium import webdriver\n",
    "from selenium.webdriver.common.keys import Keys\n",
    "from selenium.webdriver.common.by import By\n"
   ]
  },
  {
   "cell_type": "code",
   "execution_count": 100,
   "metadata": {},
   "outputs": [],
   "source": [
    "# function for Views Amount transformation\n",
    "\n",
    "def value_to_int(x):\n",
    "    if type(x) == int:\n",
    "        return x\n",
    "    if 'K' in x:\n",
    "        if len(x) > 1:\n",
    "            return int(float(x.replace('K', '')) * 1000)\n",
    "        return 1000\n",
    "    if 'M' in x:\n",
    "        if len(x) > 1:\n",
    "            return int(float(x.replace('M', '')) * 1000000)\n",
    "        return 1000000\n",
    "    else: return x"
   ]
  },
  {
   "cell_type": "code",
   "execution_count": 102,
   "metadata": {},
   "outputs": [],
   "source": [
    "\n",
    "driver = webdriver.Firefox()\n",
    "driver2 = webdriver.Firefox()\n",
    "colName = ['imdb_url', 'season', 'episode_number_relative', 'title', 'airdate', 'rating', 'reviews_amount']\n",
    "\n",
    "csvfile = \"/Users/juliatsymbal/Documents/Bicocca Master/Semester 1/IMDd_Scraper/SimpsonsR.csv\"\n",
    "with open(csvfile, \"a\") as f:\n",
    "    writer = csv.writer(f, delimiter=',' )\n",
    "    writer.writerow(colName)\n",
    "\n",
    "for season in range(1, 35):\n",
    "\n",
    "    simps_link = f'https://www.imdb.com/title/tt0096697/episodes?season={season}'\n",
    "    driver.get(simps_link)\n",
    "\n",
    "    ep_url_list = driver.find_elements(By.XPATH, \"//div[@itemprop='episodes']/strong/a\")\n",
    "    ep_href_list = []\n",
    "    ep_name_text_list = []\n",
    "    for item in ep_url_list:\n",
    "        ep_href_list.append(item.get_attribute(\"href\"))\n",
    "\n",
    "    # ep_name_list = driver.find_elements(By.XPATH, \"//div[@itemprop='episodes']/strong/a\")\n",
    "    # for item in ep_name_list:\n",
    "    #     ep_name_text_list.append(item.text)\n",
    "\n",
    "    # all_info_list = zip(ep_href_list, ep_name_text_list)\n",
    "    \n",
    "    for ep_link in ep_href_list:\n",
    "        driver2.get(ep_link)\n",
    "        \n",
    "        try:\n",
    "            ep_name = driver2.find_element(By.XPATH, \"//div[@class='sc-80d4314-1 fbQftq']/h1\").text\n",
    "        except: ep_name = None\n",
    "\n",
    "        try:\n",
    "            ep_number = driver2.find_element(By.XPATH, \"//div[@class='sc-232116ef-0 LumGv']\").text\n",
    "            ep_season = int(ep_number[1:].split('.', 1)[0])\n",
    "            ep_ep = int(ep_number.split('E')[1])\n",
    "        except: ep_number, ep_season, ep_ep = None\n",
    "            \n",
    "        try:\n",
    "            ep_date = driver2.find_element(By.XPATH, \"//ul[@class='ipc-inline-list ipc-inline-list--show-dividers sc-8c396aa2-0 kqWovI baseAlt']/li[1]\").text\n",
    "            ep_date = datetime.strptime(ep_date.split('d ')[1], '%b %d, %Y').date()\n",
    "        except: ep_date = None\n",
    "\n",
    "        try:\n",
    "            ep_rating = driver2.find_element(By.XPATH, \"//span[@class='sc-7ab21ed2-1 jGRxWM']\").text\n",
    "            ep_rating = int(float(ep_rating)*10)\n",
    "        except: ep_rating = None\n",
    "\n",
    "        try:\n",
    "            ep_review_amount = driver2.find_element(By.XPATH, \"//div[@class='sc-7ab21ed2-3 dPVcnq']\").text\n",
    "            ep_review_amount = value_to_int(ep_review_amount)\n",
    "        except: ep_review_amount = None\n",
    "        \n",
    "        all_info_list = [ep_link, ep_season, ep_ep, ep_name, ep_date, ep_rating, ep_review_amount]\n",
    "\n",
    "        with open(csvfile, \"a\") as f:\n",
    "            writer = csv.writer(f, delimiter=',' )\n",
    "            writer.writerow(all_info_list)\n",
    "\n",
    "driver.close()\n",
    "driver2.close()\n"
   ]
  },
  {
   "cell_type": "code",
   "execution_count": null,
   "metadata": {},
   "outputs": [],
   "source": []
  }
 ],
 "metadata": {
  "kernelspec": {
   "display_name": "Python 3",
   "language": "python",
   "name": "python3"
  },
  "language_info": {
   "codemirror_mode": {
    "name": "ipython",
    "version": 3
   },
   "file_extension": ".py",
   "mimetype": "text/x-python",
   "name": "python",
   "nbconvert_exporter": "python",
   "pygments_lexer": "ipython3",
   "version": "3.10.5 (v3.10.5:f377153967, Jun  6 2022, 12:36:10) [Clang 13.0.0 (clang-1300.0.29.30)]"
  },
  "orig_nbformat": 4,
  "vscode": {
   "interpreter": {
    "hash": "aee8b7b246df8f9039afb4144a1f6fd8d2ca17a180786b69acc140d282b71a49"
   }
  }
 },
 "nbformat": 4,
 "nbformat_minor": 2
}
