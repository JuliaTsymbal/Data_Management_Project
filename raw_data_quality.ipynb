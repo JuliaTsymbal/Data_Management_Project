{
 "cells": [
  {
   "cell_type": "code",
   "execution_count": 4,
   "metadata": {},
   "outputs": [],
   "source": [
    "import pandas as pd\n"
   ]
  },
  {
   "cell_type": "code",
   "execution_count": 5,
   "metadata": {},
   "outputs": [],
   "source": [
    "data = pd.read_csv('SimpsonsRatings.csv')"
   ]
  },
  {
   "cell_type": "code",
   "execution_count": 6,
   "metadata": {},
   "outputs": [],
   "source": [
    "data2 = pd.read_csv('/Users/juliatsymbal/Downloads/episodes-11.01.2023-postgres(1).csv')"
   ]
  },
  {
   "attachments": {},
   "cell_type": "markdown",
   "metadata": {},
   "source": [
    "### Completeness check "
   ]
  },
  {
   "attachments": {},
   "cell_type": "markdown",
   "metadata": {},
   "source": [
    "\n",
    "\n",
    "Calculating the number of NaN for each column\n"
   ]
  },
  {
   "cell_type": "code",
   "execution_count": 4,
   "metadata": {},
   "outputs": [
    {
     "data": {
      "text/html": [
       "<div>\n",
       "<style scoped>\n",
       "    .dataframe tbody tr th:only-of-type {\n",
       "        vertical-align: middle;\n",
       "    }\n",
       "\n",
       "    .dataframe tbody tr th {\n",
       "        vertical-align: top;\n",
       "    }\n",
       "\n",
       "    .dataframe thead th {\n",
       "        text-align: right;\n",
       "    }\n",
       "</style>\n",
       "<table border=\"1\" class=\"dataframe\">\n",
       "  <thead>\n",
       "    <tr style=\"text-align: right;\">\n",
       "      <th></th>\n",
       "      <th>Total NaN</th>\n",
       "    </tr>\n",
       "  </thead>\n",
       "  <tbody>\n",
       "    <tr>\n",
       "      <th>imdb_url</th>\n",
       "      <td>0</td>\n",
       "    </tr>\n",
       "    <tr>\n",
       "      <th>season</th>\n",
       "      <td>0</td>\n",
       "    </tr>\n",
       "    <tr>\n",
       "      <th>episode_number_relative</th>\n",
       "      <td>0</td>\n",
       "    </tr>\n",
       "    <tr>\n",
       "      <th>episode_number_absolute</th>\n",
       "      <td>0</td>\n",
       "    </tr>\n",
       "    <tr>\n",
       "      <th>title</th>\n",
       "      <td>0</td>\n",
       "    </tr>\n",
       "    <tr>\n",
       "      <th>airdate</th>\n",
       "      <td>0</td>\n",
       "    </tr>\n",
       "    <tr>\n",
       "      <th>rating</th>\n",
       "      <td>0</td>\n",
       "    </tr>\n",
       "    <tr>\n",
       "      <th>reviews_amount</th>\n",
       "      <td>0</td>\n",
       "    </tr>\n",
       "  </tbody>\n",
       "</table>\n",
       "</div>"
      ],
      "text/plain": [
       "                         Total NaN\n",
       "imdb_url                         0\n",
       "season                           0\n",
       "episode_number_relative          0\n",
       "episode_number_absolute          0\n",
       "title                            0\n",
       "airdate                          0\n",
       "rating                           0\n",
       "reviews_amount                   0"
      ]
     },
     "execution_count": 4,
     "metadata": {},
     "output_type": "execute_result"
    }
   ],
   "source": [
    "episodes_nan = pd.DataFrame(data.isna().sum(), columns=['Total NaN'])\n",
    "episodes_nan"
   ]
  },
  {
   "attachments": {},
   "cell_type": "markdown",
   "metadata": {},
   "source": [
    "\n",
    "\n",
    "Calculatin the percentage of NaN for each column\n"
   ]
  },
  {
   "cell_type": "code",
   "execution_count": 5,
   "metadata": {},
   "outputs": [
    {
     "data": {
      "text/html": [
       "<div>\n",
       "<style scoped>\n",
       "    .dataframe tbody tr th:only-of-type {\n",
       "        vertical-align: middle;\n",
       "    }\n",
       "\n",
       "    .dataframe tbody tr th {\n",
       "        vertical-align: top;\n",
       "    }\n",
       "\n",
       "    .dataframe thead th {\n",
       "        text-align: right;\n",
       "    }\n",
       "</style>\n",
       "<table border=\"1\" class=\"dataframe\">\n",
       "  <thead>\n",
       "    <tr style=\"text-align: right;\">\n",
       "      <th></th>\n",
       "      <th>Total NaN</th>\n",
       "      <th>% NaN</th>\n",
       "    </tr>\n",
       "  </thead>\n",
       "  <tbody>\n",
       "    <tr>\n",
       "      <th>imdb_url</th>\n",
       "      <td>0</td>\n",
       "      <td>0.0</td>\n",
       "    </tr>\n",
       "    <tr>\n",
       "      <th>season</th>\n",
       "      <td>0</td>\n",
       "      <td>0.0</td>\n",
       "    </tr>\n",
       "    <tr>\n",
       "      <th>episode_number_relative</th>\n",
       "      <td>0</td>\n",
       "      <td>0.0</td>\n",
       "    </tr>\n",
       "    <tr>\n",
       "      <th>episode_number_absolute</th>\n",
       "      <td>0</td>\n",
       "      <td>0.0</td>\n",
       "    </tr>\n",
       "    <tr>\n",
       "      <th>title</th>\n",
       "      <td>0</td>\n",
       "      <td>0.0</td>\n",
       "    </tr>\n",
       "    <tr>\n",
       "      <th>airdate</th>\n",
       "      <td>0</td>\n",
       "      <td>0.0</td>\n",
       "    </tr>\n",
       "    <tr>\n",
       "      <th>rating</th>\n",
       "      <td>0</td>\n",
       "      <td>0.0</td>\n",
       "    </tr>\n",
       "    <tr>\n",
       "      <th>reviews_amount</th>\n",
       "      <td>0</td>\n",
       "      <td>0.0</td>\n",
       "    </tr>\n",
       "  </tbody>\n",
       "</table>\n",
       "</div>"
      ],
      "text/plain": [
       "                         Total NaN  % NaN\n",
       "imdb_url                         0    0.0\n",
       "season                           0    0.0\n",
       "episode_number_relative          0    0.0\n",
       "episode_number_absolute          0    0.0\n",
       "title                            0    0.0\n",
       "airdate                          0    0.0\n",
       "rating                           0    0.0\n",
       "reviews_amount                   0    0.0"
      ]
     },
     "execution_count": 5,
     "metadata": {},
     "output_type": "execute_result"
    }
   ],
   "source": [
    "episodes_nan['% NaN'] = (episodes_nan['Total NaN']/len(data))*100\n",
    "episodes_nan = episodes_nan.round(decimals=2)\n",
    "episodes_nan\n"
   ]
  },
  {
   "attachments": {},
   "cell_type": "markdown",
   "metadata": {},
   "source": [
    "\n",
    "\n",
    "Completeness for Fandom Episodes\n"
   ]
  },
  {
   "cell_type": "code",
   "execution_count": 6,
   "metadata": {},
   "outputs": [
    {
     "name": "stdout",
     "output_type": "stream",
     "text": [
      "1.0\n"
     ]
    }
   ],
   "source": [
    "tot = 0\n",
    "for item in data.isna().sum():\n",
    "  tot += item\n",
    "completezza_tab =1 -(tot /(data.shape[0]*data.shape[1])) \n",
    "print(completezza_tab)\n"
   ]
  },
  {
   "attachments": {},
   "cell_type": "markdown",
   "metadata": {},
   "source": [
    "### Consistency"
   ]
  },
  {
   "cell_type": "code",
   "execution_count": 7,
   "metadata": {},
   "outputs": [
    {
     "name": "stdout",
     "output_type": "stream",
     "text": [
      "<class 'pandas.core.frame.DataFrame'>\n",
      "RangeIndex: 741 entries, 0 to 740\n",
      "Data columns (total 10 columns):\n",
      " #   Column                   Non-Null Count  Dtype  \n",
      "---  ------                   --------------  -----  \n",
      " 0   url                      741 non-null    object \n",
      " 1   title                    741 non-null    object \n",
      " 2   image_url                739 non-null    object \n",
      " 3   season                   612 non-null    float64\n",
      " 4   episode_number_absolute  741 non-null    int64  \n",
      " 5   production_code          737 non-null    object \n",
      " 6   airdate                  709 non-null    object \n",
      " 7   main_characters          415 non-null    object \n",
      " 8   written_by               732 non-null    object \n",
      " 9   directed_by              737 non-null    object \n",
      "dtypes: float64(1), int64(1), object(8)\n",
      "memory usage: 58.0+ KB\n"
     ]
    }
   ],
   "source": [
    "data2.info()"
   ]
  },
  {
   "cell_type": "code",
   "execution_count": 8,
   "metadata": {},
   "outputs": [
    {
     "name": "stdout",
     "output_type": "stream",
     "text": [
      "<class 'pandas.core.frame.DataFrame'>\n",
      "RangeIndex: 739 entries, 0 to 738\n",
      "Data columns (total 8 columns):\n",
      " #   Column                   Non-Null Count  Dtype \n",
      "---  ------                   --------------  ----- \n",
      " 0   imdb_url                 739 non-null    object\n",
      " 1   season                   739 non-null    int64 \n",
      " 2   episode_number_relative  739 non-null    int64 \n",
      " 3   episode_number_absolute  739 non-null    int64 \n",
      " 4   title                    739 non-null    object\n",
      " 5   airdate                  739 non-null    object\n",
      " 6   rating                   739 non-null    int64 \n",
      " 7   reviews_amount           739 non-null    int64 \n",
      "dtypes: int64(5), object(3)\n",
      "memory usage: 46.3+ KB\n"
     ]
    }
   ],
   "source": [
    "data.info()"
   ]
  },
  {
   "attachments": {},
   "cell_type": "markdown",
   "metadata": {},
   "source": [
    "### Accuracy"
   ]
  },
  {
   "cell_type": "code",
   "execution_count": 7,
   "metadata": {},
   "outputs": [],
   "source": [
    "imdb_modi = data.copy()"
   ]
  },
  {
   "cell_type": "code",
   "execution_count": 8,
   "metadata": {},
   "outputs": [],
   "source": [
    "def cleaner(title):\n",
    "    title = title.lower().replace(\"'\",\"\") \\\n",
    "        .replace('_', \"\") \\\n",
    "        .replace(',', \"\") \\\n",
    "        .replace(\"/\",\"\") \\\n",
    "        .replace('(', \"\") \\\n",
    "        .replace(')', \"\") \\\n",
    "        .replace(\"|\",\"\") \\\n",
    "        .replace(\"-\",\" \") \\\n",
    "        .replace(\".\",\"\") \\\n",
    "        .replace(':', \"\") \\\n",
    "        .replace(\";\",\"\") \\\n",
    "        .replace(\"+\",\"\") \\\n",
    "        .replace(\"[\",\"\") \\\n",
    "        .replace(']', \"\") \\\n",
    "        .replace(\"@\",\"\") \\\n",
    "        .replace(\"&\",\"\") \\\n",
    "        .replace(\"’\",\"\") \\\n",
    "        .replace(\"\\\"\",\"\")\\\n",
    "        .replace(\"$\", \"\")\\\n",
    "        .replace(\"!\", \"\")\n",
    "        # .replace(\"0\",\"\").replace(\"1\",\"\") \\\n",
    "        # .replace(\"2\",\"\").replace(\"3\",\"\") \\\n",
    "        # .replace(\"4\",\"\").replace(\"5\",\"\") \\\n",
    "        # .replace(\"6\",\"\").replace(\"7\",\"\") \\\n",
    "        # .replace(\"8\",\"\").replace(\"9\",\"\") \\\n",
    "       \n",
    "    return title\n",
    "        "
   ]
  },
  {
   "cell_type": "code",
   "execution_count": 9,
   "metadata": {},
   "outputs": [],
   "source": [
    "imdb_modi['title_clean'] = imdb_modi['title'].apply(lambda x: cleaner(x))\n",
    "\n",
    "data2['title_clean'] = data2['title'].apply(lambda x: cleaner(x))\n"
   ]
  },
  {
   "cell_type": "code",
   "execution_count": 10,
   "metadata": {},
   "outputs": [],
   "source": [
    "merged_ep = data2.merge(imdb_modi, on='title_clean', how = 'inner')"
   ]
  },
  {
   "cell_type": "code",
   "execution_count": 11,
   "metadata": {},
   "outputs": [],
   "source": [
    "not_merged2 = data2.title_clean[~data2.title_clean.isin(merged_ep.title_clean)]"
   ]
  },
  {
   "cell_type": "code",
   "execution_count": 12,
   "metadata": {},
   "outputs": [],
   "source": [
    "not_merged = imdb_modi.title_clean[~imdb_modi.title_clean.isin(merged_ep.title_clean)]"
   ]
  },
  {
   "cell_type": "code",
   "execution_count": 13,
   "metadata": {},
   "outputs": [],
   "source": [
    "result = pd.concat([not_merged2, not_merged], axis=1)"
   ]
  },
  {
   "cell_type": "code",
   "execution_count": 14,
   "metadata": {},
   "outputs": [
    {
     "data": {
      "text/html": [
       "<div>\n",
       "<style scoped>\n",
       "    .dataframe tbody tr th:only-of-type {\n",
       "        vertical-align: middle;\n",
       "    }\n",
       "\n",
       "    .dataframe tbody tr th {\n",
       "        vertical-align: top;\n",
       "    }\n",
       "\n",
       "    .dataframe thead th {\n",
       "        text-align: right;\n",
       "    }\n",
       "</style>\n",
       "<table border=\"1\" class=\"dataframe\">\n",
       "  <thead>\n",
       "    <tr style=\"text-align: right;\">\n",
       "      <th></th>\n",
       "      <th>title_clean</th>\n",
       "      <th>title_clean</th>\n",
       "    </tr>\n",
       "  </thead>\n",
       "  <tbody>\n",
       "    <tr>\n",
       "      <th>45</th>\n",
       "      <td>burns verkaufen der kraftwerk burns to sell th...</td>\n",
       "      <td>burns verkaufen der kraftwerk</td>\n",
       "    </tr>\n",
       "    <tr>\n",
       "      <th>130</th>\n",
       "      <td>home sweet homediddly dum doodily</td>\n",
       "      <td>home sweet home dum diddly doodily</td>\n",
       "    </tr>\n",
       "    <tr>\n",
       "      <th>152</th>\n",
       "      <td>summer of 4 ft 2</td>\n",
       "      <td>summer of 42</td>\n",
       "    </tr>\n",
       "    <tr>\n",
       "      <th>161</th>\n",
       "      <td>el viaje misterioso de nuestro jomer the myste...</td>\n",
       "      <td>el viaje misterioso de nuestro jomer</td>\n",
       "    </tr>\n",
       "    <tr>\n",
       "      <th>170</th>\n",
       "      <td>homer vs the eighteenth amendment</td>\n",
       "      <td>homer vs the 18th amendment</td>\n",
       "    </tr>\n",
       "    <tr>\n",
       "      <th>230</th>\n",
       "      <td>e i e i doh</td>\n",
       "      <td>e i e i annoyed grunt</td>\n",
       "    </tr>\n",
       "    <tr>\n",
       "      <th>239</th>\n",
       "      <td>alone again natura diddily</td>\n",
       "      <td>alone again natura diddly</td>\n",
       "    </tr>\n",
       "    <tr>\n",
       "      <th>251</th>\n",
       "      <td>lisa the tree hugger</td>\n",
       "      <td>lisa the treehugger</td>\n",
       "    </tr>\n",
       "    <tr>\n",
       "      <th>256</th>\n",
       "      <td>homя</td>\n",
       "      <td>homr</td>\n",
       "    </tr>\n",
       "    <tr>\n",
       "      <th>263</th>\n",
       "      <td>bye bye nerdie</td>\n",
       "      <td>bye bye nerdy</td>\n",
       "    </tr>\n",
       "    <tr>\n",
       "      <th>290</th>\n",
       "      <td>poppas got a brand new badge</td>\n",
       "      <td>papas got a brand new badge</td>\n",
       "    </tr>\n",
       "    <tr>\n",
       "      <th>293</th>\n",
       "      <td>bart vs lisa vs the third grade</td>\n",
       "      <td>bart vs lisa vs 3rd grade</td>\n",
       "    </tr>\n",
       "    <tr>\n",
       "      <th>305</th>\n",
       "      <td>ce doh</td>\n",
       "      <td>cedoh</td>\n",
       "    </tr>\n",
       "    <tr>\n",
       "      <th>325</th>\n",
       "      <td>smart and smarter</td>\n",
       "      <td>smart  smarter</td>\n",
       "    </tr>\n",
       "    <tr>\n",
       "      <th>366</th>\n",
       "      <td>were on the road to doh where</td>\n",
       "      <td>were on the road to dohwhere</td>\n",
       "    </tr>\n",
       "    <tr>\n",
       "      <th>377</th>\n",
       "      <td>marge and homer turn a couple play</td>\n",
       "      <td>homer and marge turn a couple play</td>\n",
       "    </tr>\n",
       "    <tr>\n",
       "      <th>379</th>\n",
       "      <td>jazzy and the pussycats</td>\n",
       "      <td>jazzy  the pussycats</td>\n",
       "    </tr>\n",
       "    <tr>\n",
       "      <th>382</th>\n",
       "      <td>gi doh</td>\n",
       "      <td>gi annoyed grunt</td>\n",
       "    </tr>\n",
       "    <tr>\n",
       "      <th>386</th>\n",
       "      <td>kill gil volumes i  ii</td>\n",
       "      <td>kill gil vol 1  2</td>\n",
       "    </tr>\n",
       "    <tr>\n",
       "      <th>392</th>\n",
       "      <td>rome old and julie eh</td>\n",
       "      <td>rome old and juli eh</td>\n",
       "    </tr>\n",
       "    <tr>\n",
       "      <th>401</th>\n",
       "      <td>the homer of seville</td>\n",
       "      <td>homer of seville</td>\n",
       "    </tr>\n",
       "    <tr>\n",
       "      <th>438</th>\n",
       "      <td>waverly hills 9 0 2 1 doh</td>\n",
       "      <td>waverly hills 9021 doh</td>\n",
       "    </tr>\n",
       "    <tr>\n",
       "      <th>448</th>\n",
       "      <td>o brother where bart thou?</td>\n",
       "      <td>oh brother where bart thou?</td>\n",
       "    </tr>\n",
       "    <tr>\n",
       "      <th>479</th>\n",
       "      <td>a midsummers nice dream</td>\n",
       "      <td>a midsummers nice dreams</td>\n",
       "    </tr>\n",
       "    <tr>\n",
       "      <th>645</th>\n",
       "      <td>krusty the clown episode</td>\n",
       "      <td>krusty the clown</td>\n",
       "    </tr>\n",
       "    <tr>\n",
       "      <th>679</th>\n",
       "      <td>warrin priests part one</td>\n",
       "      <td>warrin priests</td>\n",
       "    </tr>\n",
       "    <tr>\n",
       "      <th>680</th>\n",
       "      <td>warrin priests part two</td>\n",
       "      <td>warrin priests part 2</td>\n",
       "    </tr>\n",
       "    <tr>\n",
       "      <th>697</th>\n",
       "      <td>do pizzabots dream of electric guitars?</td>\n",
       "      <td>do pizza bots dream of electric guitars</td>\n",
       "    </tr>\n",
       "    <tr>\n",
       "      <th>710</th>\n",
       "      <td>a serious flanders part one</td>\n",
       "      <td>a serious flanders</td>\n",
       "    </tr>\n",
       "    <tr>\n",
       "      <th>711</th>\n",
       "      <td>a serious flanders part two</td>\n",
       "      <td>a serious flanders part 2</td>\n",
       "    </tr>\n",
       "    <tr>\n",
       "      <th>739</th>\n",
       "      <td>the many saints of springfield</td>\n",
       "      <td>NaN</td>\n",
       "    </tr>\n",
       "    <tr>\n",
       "      <th>740</th>\n",
       "      <td>carl carlson rides again</td>\n",
       "      <td>NaN</td>\n",
       "    </tr>\n",
       "  </tbody>\n",
       "</table>\n",
       "</div>"
      ],
      "text/plain": [
       "                                           title_clean  \\\n",
       "45   burns verkaufen der kraftwerk burns to sell th...   \n",
       "130                  home sweet homediddly dum doodily   \n",
       "152                                   summer of 4 ft 2   \n",
       "161  el viaje misterioso de nuestro jomer the myste...   \n",
       "170                  homer vs the eighteenth amendment   \n",
       "230                                        e i e i doh   \n",
       "239                         alone again natura diddily   \n",
       "251                               lisa the tree hugger   \n",
       "256                                               homя   \n",
       "263                                     bye bye nerdie   \n",
       "290                       poppas got a brand new badge   \n",
       "293                    bart vs lisa vs the third grade   \n",
       "305                                             ce doh   \n",
       "325                                  smart and smarter   \n",
       "366                      were on the road to doh where   \n",
       "377                 marge and homer turn a couple play   \n",
       "379                            jazzy and the pussycats   \n",
       "382                                             gi doh   \n",
       "386                             kill gil volumes i  ii   \n",
       "392                              rome old and julie eh   \n",
       "401                               the homer of seville   \n",
       "438                          waverly hills 9 0 2 1 doh   \n",
       "448                         o brother where bart thou?   \n",
       "479                            a midsummers nice dream   \n",
       "645                           krusty the clown episode   \n",
       "679                            warrin priests part one   \n",
       "680                            warrin priests part two   \n",
       "697            do pizzabots dream of electric guitars?   \n",
       "710                        a serious flanders part one   \n",
       "711                        a serious flanders part two   \n",
       "739                     the many saints of springfield   \n",
       "740                           carl carlson rides again   \n",
       "\n",
       "                                 title_clean  \n",
       "45             burns verkaufen der kraftwerk  \n",
       "130       home sweet home dum diddly doodily  \n",
       "152                             summer of 42  \n",
       "161     el viaje misterioso de nuestro jomer  \n",
       "170              homer vs the 18th amendment  \n",
       "230                    e i e i annoyed grunt  \n",
       "239                alone again natura diddly  \n",
       "251                      lisa the treehugger  \n",
       "256                                     homr  \n",
       "263                            bye bye nerdy  \n",
       "290              papas got a brand new badge  \n",
       "293                bart vs lisa vs 3rd grade  \n",
       "305                                    cedoh  \n",
       "325                           smart  smarter  \n",
       "366             were on the road to dohwhere  \n",
       "377       homer and marge turn a couple play  \n",
       "379                     jazzy  the pussycats  \n",
       "382                         gi annoyed grunt  \n",
       "386                        kill gil vol 1  2  \n",
       "392                     rome old and juli eh  \n",
       "401                         homer of seville  \n",
       "438                   waverly hills 9021 doh  \n",
       "448              oh brother where bart thou?  \n",
       "479                 a midsummers nice dreams  \n",
       "645                         krusty the clown  \n",
       "679                           warrin priests  \n",
       "680                    warrin priests part 2  \n",
       "697  do pizza bots dream of electric guitars  \n",
       "710                       a serious flanders  \n",
       "711                a serious flanders part 2  \n",
       "739                                      NaN  \n",
       "740                                      NaN  "
      ]
     },
     "execution_count": 14,
     "metadata": {},
     "output_type": "execute_result"
    }
   ],
   "source": [
    "result"
   ]
  },
  {
   "cell_type": "code",
   "execution_count": 15,
   "metadata": {},
   "outputs": [],
   "source": [
    "pd.DataFrame.to_csv(result, 'not_merged_ep.csv')"
   ]
  },
  {
   "cell_type": "code",
   "execution_count": null,
   "metadata": {},
   "outputs": [],
   "source": []
  }
 ],
 "metadata": {
  "kernelspec": {
   "display_name": "Python 3",
   "language": "python",
   "name": "python3"
  },
  "language_info": {
   "codemirror_mode": {
    "name": "ipython",
    "version": 3
   },
   "file_extension": ".py",
   "mimetype": "text/x-python",
   "name": "python",
   "nbconvert_exporter": "python",
   "pygments_lexer": "ipython3",
   "version": "3.8.14"
  },
  "orig_nbformat": 4,
  "vscode": {
   "interpreter": {
    "hash": "5f738b3d73592b77919994bf7ba24e2801b28c02a274ecca7d4293c120dc19cc"
   }
  }
 },
 "nbformat": 4,
 "nbformat_minor": 2
}
